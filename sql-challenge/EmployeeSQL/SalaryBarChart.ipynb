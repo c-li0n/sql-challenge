{
 "cells": [
  {
   "cell_type": "code",
   "execution_count": 71,
   "metadata": {},
   "outputs": [],
   "source": [
    "\n",
    "import psycopg2 as pg\n",
    "import pandas.io.sql as psql\n",
    "import pandas as pd\n",
    "import numpy as np\n",
    "import matplotlib.pyplot as plt\n",
    "\n",
    "# create a connection to the postgresql database\n",
    "connection = pg.connect(\"host='127.0.0.1' dbname=EmployeeSQL user=postgres password='941231'\")\n",
    "\n",
    "# create dataframes for salaries and title\n",
    "salaries = pd.read_sql_query('select emp_no, salary from salaries',connection)\n",
    "titles = pd.read_sql_query('select emp_no, title from titles',connection)"
   ]
  },
  {
   "cell_type": "code",
   "execution_count": 72,
   "metadata": {},
   "outputs": [
    {
     "data": {
      "text/html": [
       "<div>\n",
       "<style scoped>\n",
       "    .dataframe tbody tr th:only-of-type {\n",
       "        vertical-align: middle;\n",
       "    }\n",
       "\n",
       "    .dataframe tbody tr th {\n",
       "        vertical-align: top;\n",
       "    }\n",
       "\n",
       "    .dataframe thead th {\n",
       "        text-align: right;\n",
       "    }\n",
       "</style>\n",
       "<table border=\"1\" class=\"dataframe\">\n",
       "  <thead>\n",
       "    <tr style=\"text-align: right;\">\n",
       "      <th></th>\n",
       "      <th>title</th>\n",
       "      <th>salary</th>\n",
       "    </tr>\n",
       "  </thead>\n",
       "  <tbody>\n",
       "    <tr>\n",
       "      <th>0</th>\n",
       "      <td>Assistant Engineer</td>\n",
       "      <td>48493.204786</td>\n",
       "    </tr>\n",
       "    <tr>\n",
       "      <th>1</th>\n",
       "      <td>Engineer</td>\n",
       "      <td>48539.781423</td>\n",
       "    </tr>\n",
       "    <tr>\n",
       "      <th>2</th>\n",
       "      <td>Manager</td>\n",
       "      <td>51531.041667</td>\n",
       "    </tr>\n",
       "    <tr>\n",
       "      <th>3</th>\n",
       "      <td>Senior Engineer</td>\n",
       "      <td>48506.751806</td>\n",
       "    </tr>\n",
       "    <tr>\n",
       "      <th>4</th>\n",
       "      <td>Senior Staff</td>\n",
       "      <td>58503.286614</td>\n",
       "    </tr>\n",
       "  </tbody>\n",
       "</table>\n",
       "</div>"
      ],
      "text/plain": [
       "                  title        salary\n",
       "0  Assistant Engineer    48493.204786\n",
       "1  Engineer              48539.781423\n",
       "2  Manager               51531.041667\n",
       "3  Senior Engineer       48506.751806\n",
       "4  Senior Staff          58503.286614"
      ]
     },
     "execution_count": 72,
     "metadata": {},
     "output_type": "execute_result"
    }
   ],
   "source": [
    "# create a group by function\n",
    "salarytitle_df = pd.merge(titles, salaries, on=['emp_no'])\n",
    "#salarytitle_df.head()\n",
    "salarytitlegrouped_df = salarytitle_df.groupby(['title'])['salary'].mean()\n",
    "salarytitlegrouped_df = salarytitlegrouped_df.reset_index()\n",
    "\n",
    "salarytitlegrouped_df.head()\n"
   ]
  },
  {
   "cell_type": "code",
   "execution_count": 73,
   "metadata": {},
   "outputs": [
    {
     "data": {
      "image/png": "[encoded data removed]",
      "text/plain": [
       "<Figure size 1080x720 with 1 Axes>"
      ]
     },
     "metadata": {
      "needs_background": "light"
     },
     "output_type": "display_data"
    }
   ],
   "source": [
    "# define x axis, y axis, width and fig size\n",
    "x_axis=salarytitlegrouped_df[\"title\"]\n",
    "y_axis=salarytitlegrouped_df[\"salary\"]\n",
    "#width = 0.5\n",
    "fig,ax = plt.subplots(figsize=(15,10))\n",
    "\n",
    "# create barchart using x values, y values\n",
    "plt.bar(x_axis, y_axis, color='green', alpha=0.25, align='center')\n",
    "\n",
    "# define tick locations and values for x axis, y axis and title\n",
    "plt.xlabel('Titles', size=16)\n",
    "plt.ylabel('Average Salary in $', size=16)\n",
    "plt.title('Average Salary by Title', size=16)\n",
    "#plt.show()\n",
    "plt.savefig(\"Salary by Title.png\")"
   ]
  },
  {
   "cell_type": "code",
   "execution_count": null,
   "metadata": {},
   "outputs": [],
   "source": []
  },
  {
   "cell_type": "code",
   "execution_count": null,
   "metadata": {},
   "outputs": [],
   "source": []
  }
 ],
 "metadata": {
  "kernelspec": {
   "display_name": "Python 3",
   "language": "python",
   "name": "python3"
  },
  "language_info": {
   "codemirror_mode": {
    "name": "ipython",
    "version": 3
   },
   "file_extension": ".py",
   "mimetype": "text/x-python",
   "name": "python",
   "nbconvert_exporter": "python",
   "pygments_lexer": "ipython3",
   "version": "3.7.3"
  }
 },
 "nbformat": 4,
 "nbformat_minor": 2
}
